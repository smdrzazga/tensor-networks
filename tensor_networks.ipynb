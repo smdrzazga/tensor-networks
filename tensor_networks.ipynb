{
 "cells": [
  {
   "cell_type": "code",
   "execution_count": 2,
   "id": "84044e1e-14d6-4ee8-9ff5-e1d56275172c",
   "metadata": {},
   "outputs": [],
   "source": [
    "import numpy as np\n",
    "import matplotlib.pyplot as plt\n",
    "\n",
    "# generates a random quntum state for n spins 1/2 as\n",
    "# a rank n tensor of probability amplitudes psi_{0,1,2,\\dots,n-1}\n",
    "def random(n):\n",
    "  x = np.random.rand(2**n)+1.j*np.random.rand(2**n)\n",
    "  x = x/np.sqrt(np.vdot(x,x))\n",
    "  x = np.reshape(x,list(np.repeat(2,n)))\n",
    "  return x\n",
    "\n",
    "# generates a random ground state of a classical 1D Ising model with n spins 1/2 as\n",
    "# a rank n tensor of probability amplitudes psi_{0,1,2,\\dots,n-1}\n",
    "def Is_GS(n):\n",
    "  x = np.random.rand(2)+1.j*np.random.rand(2)\n",
    "  x = x/np.sqrt(np.vdot(x,x))\n",
    "  v = np.zeros(2**n,dtype=np.complex128)\n",
    "  v[0] = x[0]\n",
    "  v[2**n-1] = x[1]\n",
    "  v = np.reshape(v,list(np.repeat(2,n)))\n",
    "  return v\n",
    "\n",
    "#generates an expectation value O of an operator o acting at a site s \n",
    "#O=psi_{i0,...,i_{s-1},j,i_{s+1},...,i_n}^* o_{j,k} psi_{i0,...,i_{s-1},k,i_{s+1},...,i_n} (Einstein's convention implied) \n",
    "def EV_1s(psi,s,op):\n",
    "   n = len(psi.shape)\n",
    "   psiop = np.tensordot(op,psi,axes=((1,),(s,)))\n",
    "   psiop = np.transpose(np.reshape(psiop,(2,2**(s),2**(n-s-1))),(1,0,2))\n",
    "   EV = np.vdot(np.reshape(psi,-1),np.reshape(psiop,-1))\n",
    "   return np.real(EV)\n",
    "\n",
    "#generates an expectation value O of an operator o acting at sites s,s+1 \n",
    "#O=psi_{i0,...,i_{s-1},j,k,i_{s+2},...,i_n}^* o_{j,k,l,m} psi_{i0,...,i_{s-1},l,m,i_{s+2},...,i_n} (Einstein's convention implied)\n",
    "def EV_2s(psi,s,op):\n",
    "   n = len(psi.shape)\n",
    "   psiop = np.tensordot(op,psi,axes=((2,3),(s,s+1)))\n",
    "   psiop = np.transpose(np.reshape(psiop,(4,2**(s),2**(n-s-2))),(1,0,2))\n",
    "   EV = np.vdot(np.reshape(psi,-1),np.reshape(psiop,-1))\n",
    "   return np.real(EV)\n",
    " \n"
   ]
  },
  {
   "cell_type": "code",
   "execution_count": 3,
   "id": "21636359-78c0-4095-97da-0b436732c91f",
   "metadata": {},
   "outputs": [],
   "source": [
    "import numpy as np\n",
    "\n",
    "def to_left_canonical_mps(state):\n",
    "    dim = len(state.shape)\n",
    "    bond_dim = 1\n",
    "\n",
    "    mps = []\n",
    "\n",
    "    #reshape the state tensor to get 2x2 U matrix from SVD and perform first SVD\n",
    "    state = np.reshape(state, (2,-1))\n",
    "    U,S,V = np.linalg.svd(state, full_matrices=False)\n",
    "\n",
    "    #U is 2x2 matrix, ready to use as first part of MPS, S is absorbed into V and will be further factorized\n",
    "    mps.append(U)\n",
    "    V = np.diag(S)@V\n",
    "\n",
    "    # loop for rank 3 product tensors with number of left bonds smaller than right bonds\n",
    "    for i in range(int((dim-1)/2)):\n",
    "        bond_dim += 1\n",
    "\n",
    "        V = np.reshape(V, (2**bond_dim,-1))\n",
    "        U,S,V = np.linalg.svd(V, full_matrices=False)\n",
    "        U = np.reshape(U, (2**(bond_dim-1),2,-1))  \n",
    "\n",
    "        mps.append(U)\n",
    "        V = np.diag(S)@V\n",
    "\n",
    "    #cases of even dimension need to have more bonds at the beginning of the 2nd loop\n",
    "    if(dim%2 == 0): bond_dim += 1\n",
    "\n",
    "    #loop for the remaining rank 3 tensors\n",
    "    for i in range(int(dim/2 - 1)):\n",
    "        V = np.reshape(V, (2**(bond_dim),-1))\n",
    "        U,S,V = np.linalg.svd(V, full_matrices=False)\n",
    "        U = np.reshape(U, (2**(bond_dim-1),2,-1))\n",
    "\n",
    "        mps.append(U)\n",
    "        V = np.diag(S)@V\n",
    "\n",
    "        bond_dim -= 1\n",
    "    \n",
    "    mps.append(V)\n",
    "    return(mps)\n",
    "\n",
    "def get_state(MPS):\n",
    "    #contracting neighbouring indices of every tensor being a part of MPS\n",
    "    state = np.tensordot(MPS[0], MPS[1], axes = [1,0])\n",
    "\n",
    "    for i in range(2, len(MPS)):\n",
    "        state = np.tensordot(state, MPS[i], axes = [-1,0])\n",
    "\n",
    "    return state\n",
    "\n",
    "def check_state(MPS,state):\n",
    "    eps = 1e-15\n",
    "    is_close = np.allclose(abs(get_state(MPS)), abs(state), atol = eps)\n",
    "    return is_close\n",
    "\n",
    "def bond_dim_check(mps):\n",
    "    bond_dim = 2\n",
    "    if (len(mps) < 2): \n",
    "        print(\"too small dimension of MPS!\")\n",
    "        return 0\n",
    "    for i in range(len(mps)):\n",
    "        a = mps[i].shape\n",
    "        for j in range(len(a)):\n",
    "            if (bond_dim < a[j]):\n",
    "                bond_dim = a[j]\n",
    "    return bond_dim\n"
   ]
  },
  {
   "cell_type": "code",
   "execution_count": 4,
   "id": "c59705d1-c229-485a-b60b-d0e939fd11d9",
   "metadata": {},
   "outputs": [
    {
     "name": "stdout",
     "output_type": "stream",
     "text": [
      "(2, 2)\n",
      "(2, 2, 4)\n",
      "(4, 2, 8)\n",
      "(8, 2, 16)\n",
      "(16, 2, 32)\n",
      "(32, 2, 64)\n",
      "(64, 2, 32)\n",
      "(32, 2, 16)\n",
      "(16, 2, 8)\n",
      "(8, 2, 4)\n",
      "(4, 2, 2)\n",
      "(2, 2)\n"
     ]
    }
   ],
   "source": [
    "dim = 12\n",
    "eps = 1e-15\n",
    "Z = np.diag([1,-1])\n",
    "\n",
    "state = random(dim)\n",
    "\n",
    "\n",
    "MPS = to_left_canonical_mps(state)\n",
    "for i in range(len(MPS)):\n",
    "    print(MPS[i].shape)"
   ]
  },
  {
   "cell_type": "code",
   "execution_count": 5,
   "id": "2b54ad09",
   "metadata": {},
   "outputs": [
    {
     "data": {
      "text/plain": [
       "True"
      ]
     },
     "execution_count": 5,
     "metadata": {},
     "output_type": "execute_result"
    }
   ],
   "source": [
    "# check whether MPS correctly reproduces state\n",
    "check_state(MPS,state)"
   ]
  },
  {
   "cell_type": "code",
   "execution_count": 6,
   "id": "58db2a38",
   "metadata": {},
   "outputs": [],
   "source": [
    "def is_left_canonical(MPS):\n",
    "    eps = 1e-14\n",
    "    unitary_counter = 0\n",
    "    dim = len(MPS)\n",
    "\n",
    "    #leftmost contracted matrix should be of shape 2x2 and should be unitary\n",
    "    if(np.allclose(MPS[0]@MPS[0].T.conj(), np.diag([1,1]), atol = eps)): unitary_counter += 1\n",
    "\n",
    "    #double contracted tensors in the middle of MPS should also give unitary matrices\n",
    "    for i in range(1,len(MPS)-1):\n",
    "        m = MPS[i]\n",
    "        mt = m.T.conj()\n",
    "        mmt = np.einsum('ijk,lji->kl', m, mt)\n",
    "        bonds = mmt.shape[0]\n",
    "        if(np.allclose(mmt, np.diag(np.ones(bonds)), atol = eps)): unitary_counter += 1\n",
    "\n",
    "\n",
    "    if(unitary_counter == dim - 1): \n",
    "        return True\n",
    "    else:\n",
    "        return False\n",
    "\n"
   ]
  },
  {
   "cell_type": "code",
   "execution_count": 7,
   "id": "8d633168",
   "metadata": {},
   "outputs": [
    {
     "data": {
      "text/plain": [
       "True"
      ]
     },
     "execution_count": 7,
     "metadata": {},
     "output_type": "execute_result"
    }
   ],
   "source": [
    "#check whether MPS is indeed left canonical\n",
    "is_left_canonical(MPS)"
   ]
  },
  {
   "cell_type": "code",
   "execution_count": 8,
   "id": "bada8e10",
   "metadata": {},
   "outputs": [],
   "source": [
    "def left_canonical_mps_norm(MPS):\n",
    "    #contraction of leftmost MPS matrices\n",
    "    norm = np.einsum('ij,ki->jk',MPS[0], MPS[0].T.conj())\n",
    "    \n",
    "    #loop for contracting first the conjugate element of MPS followed by contraction of original one \n",
    "    for i in range(1,len(MPS)-1):\n",
    "        norm = np.tensordot(norm, MPS[i].T.conj(), axes=[1,2])\n",
    "        norm = np.einsum('ijk, ikl->lj',norm,MPS[i])\n",
    "        print(norm.shape)\n",
    "\n",
    "    #final contraction of two remaining matrices\n",
    "    norm = np.tensordot(norm, MPS[-1].T.conj(), axes=[1,1])\n",
    "    norm = np.einsum('ij, ij',norm,MPS[-1])\n",
    "    return np.real(norm)\n",
    "\n",
    "def state_exp_value(MPS):\n",
    "    #contraction of leftmost MPS matrices\n",
    "    norm = np.einsum('ij,ki->jk',MPS[0], MPS[0].T.conj())\n",
    "\n",
    "    #loop for contracting first the conjugate element of MPS followed by contraction of original one\n",
    "    for i in range(1,len(MPS)-1):\n",
    "        norm = np.tensordot(norm, MPS[i].T.conj(), axes=[1,2])\n",
    "        norm = np.einsum('ijk, ikl->lj',norm,MPS[i])\n",
    "\n",
    "    #contracting Z operator with rightmost matrices\n",
    "    Z_contr = np.tensordot(MPS[-1], Z, axes=[1,0])\n",
    "    Z_contr = np.tensordot(Z_contr, MPS[-1].T.conj(), axes=[1,0])\n",
    "    \n",
    "    #final double contraction loop result with result of operator Zcontraction \n",
    "    norm = np.einsum('ij, ij',norm,Z_contr)\n",
    "    return np.real(norm)"
   ]
  },
  {
   "cell_type": "code",
   "execution_count": 9,
   "id": "2867f748",
   "metadata": {},
   "outputs": [
    {
     "name": "stdout",
     "output_type": "stream",
     "text": [
      "0.00490112571959537\n",
      "0.0049011257195930025\n"
     ]
    }
   ],
   "source": [
    "#check whether expected values are the same for both methods\n",
    "print(state_exp_value(MPS))\n",
    "print(EV_1s(state,dim-1,Z))"
   ]
  },
  {
   "cell_type": "code",
   "execution_count": 10,
   "id": "b2aa9263",
   "metadata": {},
   "outputs": [],
   "source": [
    "def trunc_left_canonical_mps(state, isTruncated:bool):\n",
    "    eps = 1e-15\n",
    "    dim = len(state.shape)\n",
    "    bond_dim = 1\n",
    "\n",
    "    mps = []\n",
    "\n",
    "    #reshape the state tensor to get 2x2 U matrix from SVD and perform first SVD\n",
    "    state = np.reshape(state, (2,-1))\n",
    "    U,S,V = np.linalg.svd(state, full_matrices=False)\n",
    "\n",
    "    #U is 2x2 matrix, ready to use as first part of MPS, S is absorbed into V and will be further factorized\n",
    "    mps.append(U)\n",
    "    V = np.diag(S)@V\n",
    "\n",
    "    # loop for rank 3 product tensors with number of left bonds smaller than right bonds\n",
    "    for i in range(dim-2):\n",
    "        bond_dim = U.shape[-1]\n",
    "\n",
    "        V = np.reshape(V, (2*bond_dim,-1))\n",
    "        U,S,V = np.linalg.svd(V, full_matrices=False)\n",
    "\n",
    "        #truncation (discarding singular values and corresponding collumn vectors from U and row vectors from V) if singular value is smaller than eps = 1e-15\n",
    "        if(isTruncated == True):\n",
    "            j = 0\n",
    "            while(j < len(S)):\n",
    "                if (abs(S[j]) < eps):\n",
    "                    U = np.delete(U, j, 1)\n",
    "                    S = np.delete(S, j)\n",
    "                    V = np.delete(V, j, 0)\n",
    "                else:\n",
    "                    j += 1\n",
    "    \n",
    "        U = np.reshape(U, (bond_dim,2,-1))\n",
    "        mps.append(U)\n",
    "        V = np.diag(S)@V\n",
    "\n",
    "\n",
    "\n",
    "    \n",
    "    mps.append(V)\n",
    "    return(mps)"
   ]
  },
  {
   "cell_type": "code",
   "execution_count": 11,
   "id": "fcfffd2b",
   "metadata": {},
   "outputs": [
    {
     "name": "stdout",
     "output_type": "stream",
     "text": [
      "True\n",
      "True\n"
     ]
    }
   ],
   "source": [
    "#truncating mps and check whether is correctly encodes initial state and is left canonical\n",
    "trunc_MPS = trunc_left_canonical_mps(state,isTruncated = True)\n",
    "\n",
    "print(check_state(trunc_MPS,state))\n",
    "\n",
    "print(is_left_canonical(trunc_MPS))\n",
    "\n"
   ]
  },
  {
   "cell_type": "code",
   "execution_count": 12,
   "id": "71909476",
   "metadata": {},
   "outputs": [
    {
     "name": "stdout",
     "output_type": "stream",
     "text": [
      "(2, 2)\n",
      "(2, 2, 4)\n",
      "(4, 2, 8)\n",
      "(8, 2, 16)\n",
      "(16, 2, 32)\n",
      "(32, 2, 64)\n",
      "(64, 2, 32)\n",
      "(32, 2, 16)\n",
      "(16, 2, 8)\n",
      "(8, 2, 4)\n",
      "(4, 2, 2)\n",
      "(2, 2)\n"
     ]
    }
   ],
   "source": [
    "#truncated shape\n",
    "for i in range(len(trunc_MPS)):\n",
    "    print(trunc_MPS[i].shape)"
   ]
  },
  {
   "cell_type": "code",
   "execution_count": 13,
   "id": "75dcffc4",
   "metadata": {},
   "outputs": [
    {
     "name": "stdout",
     "output_type": "stream",
     "text": [
      "(2, 2)\n",
      "(2, 2, 2)\n",
      "(2, 2, 2)\n",
      "(2, 2, 2)\n",
      "(2, 2, 2)\n",
      "(2, 2, 2)\n",
      "(2, 2, 2)\n",
      "(2, 2, 2)\n",
      "(2, 2, 2)\n",
      "(2, 2, 2)\n",
      "(2, 2, 2)\n",
      "(2, 2)\n",
      "\n",
      "Truncated MPS still encodes ground state:  True\n"
     ]
    }
   ],
   "source": [
    "#creating MPS of Ising groud state and truncating it\n",
    "ising_state = Is_GS(dim)\n",
    "trunc_ising_state = trunc_left_canonical_mps(ising_state, isTruncated=True)\n",
    "\n",
    "#shape of truncated Ising MPS\n",
    "for i in range(len(trunc_ising_state)):\n",
    "    print(trunc_ising_state[i].shape)\n",
    "\n",
    "#check whether truncated MPS of Ising groud state is correctly recovered\n",
    "print(\"\\nTruncated MPS still encodes ground state: \", end=\" \")\n",
    "print(check_state(trunc_ising_state, ising_state))"
   ]
  },
  {
   "cell_type": "code",
   "execution_count": 14,
   "id": "f8c27a59",
   "metadata": {},
   "outputs": [],
   "source": [
    "def to_mixed_canonical_mps(mps, site):\n",
    "    dim = len(mps)\n",
    "    MPS = mps\n",
    "\n",
    "    for i in reversed(range(site+1,dim)):\n",
    "\n",
    "        right_bond_shape= mps[i].shape\n",
    "        left_bond_shape = mps[i-1].shape\n",
    "\n",
    "        V = np.reshape(MPS[i], (left_bond_shape[-1], -1))\n",
    "        U,S,V = np.linalg.svd(V, full_matrices=False )\n",
    "\n",
    "        MPS[i] = np.reshape(V, right_bond_shape)\n",
    "        U = MPS[i-1] @ U @ np.diag(S)\n",
    "        MPS[i-1] = np.reshape(U, left_bond_shape)\n",
    "\n",
    "    return MPS\n"
   ]
  },
  {
   "cell_type": "code",
   "execution_count": 15,
   "id": "082cb70f",
   "metadata": {},
   "outputs": [
    {
     "name": "stdout",
     "output_type": "stream",
     "text": [
      "(2, 2)\n",
      "(2, 2, 4)\n",
      "(4, 2, 8)\n",
      "(8, 2, 16)\n",
      "(16, 2, 32)\n",
      "(32, 2, 64)\n",
      "(64, 2, 32)\n",
      "(32, 2, 16)\n",
      "(16, 2, 8)\n",
      "(8, 2, 4)\n",
      "(4, 2, 2)\n",
      "(2, 2)\n"
     ]
    }
   ],
   "source": [
    "for i in range(len(to_mixed_canonical_mps(MPS,5))):\n",
    "    print(to_mixed_canonical_mps(MPS,5)[i].shape)"
   ]
  },
  {
   "cell_type": "code",
   "execution_count": 16,
   "id": "ed4428af",
   "metadata": {},
   "outputs": [],
   "source": [
    "def is_mixed_canonical(MPS, site):\n",
    "    eps = 1e-14\n",
    "    identity_counter = 0\n",
    "    dim = len(MPS)\n",
    "    \n",
    "\n",
    "    #leftmost contracted matrix should be of shape 2x2 and should be unitary\n",
    "    if(np.allclose(MPS[0]@MPS[0].T.conj(), np.diag([1,1]), atol = eps)): identity_counter += 1\n",
    "\n",
    "    #double contracted tensors in the middle of MPS should contract to identity matrices\n",
    "    for i in range(1,site):\n",
    "        m = MPS[i]\n",
    "        mt = m.T.conj()\n",
    "        mmt = np.einsum('ijk,lji->kl', m, mt)\n",
    "        bonds = mmt.shape[0]\n",
    "        if(np.allclose(mmt, np.diag(np.ones(bonds)), atol = eps)): identity_counter += 1\n",
    "        \n",
    "    for i in range(site+1, dim-1):\n",
    "        m = MPS[i]\n",
    "        mt = m.T.conj()\n",
    "        mmt = np.einsum('ijk,lji->kl', mt, m)\n",
    "        bonds = mmt.shape[0]\n",
    "        if(np.allclose(mmt, np.diag(np.ones(bonds)), atol = eps)): identity_counter += 1\n",
    "  \n",
    "    #check for rightmost matrix\n",
    "    if(np.allclose(MPS[-1]@MPS[-1].T.conj(), np.diag([1,1]), atol = eps)): identity_counter += 1\n",
    "\n",
    "    if(identity_counter == dim - 1): \n",
    "        return True\n",
    "    else:\n",
    "        return False\n",
    "\n",
    "\n",
    "def mixed_canonical_mps_norm(mps, site):\n",
    "    if(is_mixed_canonical(mps,site) == False ): return \"not mixed canonical\"\n",
    "\n",
    "    #for mixed canonical norm we need to contract only orthogonality center\n",
    "    m = mixed_mps[site]\n",
    "    mt = m.T.conj()\n",
    "    mmt = np.einsum('ijk,kji', mt, m)\n",
    "\n",
    "    return np.real(mmt)\n"
   ]
  },
  {
   "cell_type": "code",
   "execution_count": 17,
   "id": "67d3db2e",
   "metadata": {},
   "outputs": [
    {
     "name": "stdout",
     "output_type": "stream",
     "text": [
      "\n",
      "Is mixed canonical: True\n",
      "Mixed canonical norm: 0.9999999999999928"
     ]
    }
   ],
   "source": [
    "#converting left-canonical MPS to mixed-canonical one and checking whether it is indeed canonical\n",
    "site = 4\n",
    "\n",
    "mixed_mps = to_mixed_canonical_mps(MPS, site)\n",
    "print(\"\\nIs mixed canonical:\", is_mixed_canonical(mixed_mps, site), end = \"\")\n",
    "\n",
    "#checking norm of mixed canonical mps\n",
    "print(\"\\nMixed canonical norm:\", mixed_canonical_mps_norm(mixed_mps, site), end=\"\")"
   ]
  },
  {
   "cell_type": "code",
   "execution_count": 18,
   "id": "8e971ae6",
   "metadata": {},
   "outputs": [],
   "source": [
    "def one_site_exp_value(state, site, operator):\n",
    "    #transforming state to mixed canonical mps with orthogonality center at site 'site'\n",
    "    mps = trunc_left_canonical_mps(state, isTruncated=True)\n",
    "    mps = to_mixed_canonical_mps(mps, site)\n",
    "    \n",
    "    m = mps[site]\n",
    "    mt = m.T.conj()\n",
    "\n",
    "#left and right matrices have only 2 indices whereas tensors in between have 3, hence 3 cases\n",
    "    exp_val = 0\n",
    "    if(site == 0): \n",
    "        m = np.einsum('ij,ik->jk', m, operator)\n",
    "        exp_val = np.einsum('ij,ij', m, mt)\n",
    "    elif(site == len(mps)-1):\n",
    "        m = np.einsum('ij,jk->ik', m, operator)\n",
    "        exp_val = np.einsum('ij,ji', m, mt)\n",
    "    else:\n",
    "        m = np.einsum('ijk,jl->ilk', m, operator)\n",
    "        exp_val = np.einsum('ijk,kji', m, mt)\n",
    "\n",
    "\n",
    "    return np.real(exp_val)\n",
    "\n",
    "\n",
    "def two_site_exp_value(state, site, operator):\n",
    "    if(site == len(state.shape) - 1): return \"Error: site too large\"\n",
    "    #transforming state to mixed canonical mps with orthogonality center at site 'site'\n",
    "    mps = trunc_left_canonical_mps(state, isTruncated=True)\n",
    "    mps = to_mixed_canonical_mps(mps, site)\n",
    "    \n",
    "    m = mps[site]\n",
    "    mt = m.T.conj()\n",
    "    m_next = mps[site+1]\n",
    "    mt_next = m_next.T.conj()\n",
    "    \n",
    "    #left and right matrices have only 2 indices whereas tensors in between have 3, hence 3 cases\n",
    "    exp_val = 0\n",
    "\n",
    "    if(len(state.shape) == 2):\n",
    "        m = np.einsum('ik,kj,jl->li', mt, operator, m)\n",
    "        m_next = np.einsum('ik,kj,jl->li', mt_next, operator, m_next)\n",
    "\n",
    "        exp_val = np.einsum('ij,ij', m, m_next)\n",
    "\n",
    "    elif(site == 0): \n",
    "        m = np.einsum('ik,kj,jl->li', mt, operator, m)\n",
    "        m_next = np.einsum('ijk,jq,pqr->prki', mt_next, operator, m_next)\n",
    "\n",
    "        exp_val = np.einsum('ij,iljl', m, m_next)\n",
    "\n",
    "    elif(site == len(mps)-2):\n",
    "        m = np.einsum('ijk,jq,pqr->prki', mt, operator, m)\n",
    "        m_next = np.einsum('ik,kj,jl->li', mt_next, operator, m_next)\n",
    "\n",
    "        exp_val = np.einsum('ijil,jl', m, m_next)\n",
    "\n",
    "    else:\n",
    "        m = np.einsum('ijk,jq,pqr->prki', mt, operator, m)\n",
    "        m_next = np.einsum('ijk,jq,pqr->prki', mt_next, operator, m_next)\n",
    "\n",
    "        exp_val = np.einsum('ijik,jlkl', m, m_next)\n",
    "\n",
    "    return np.real(exp_val)\n",
    "\n"
   ]
  },
  {
   "cell_type": "code",
   "execution_count": 19,
   "id": "f9bb940c",
   "metadata": {},
   "outputs": [
    {
     "name": "stdout",
     "output_type": "stream",
     "text": [
      "\n",
      "Calculated one site expectation value at site 3:  0.0008313826800103305\n",
      "\n",
      "Reference one site expectation value at site 3:  0.0008313826800103504\n",
      "\n",
      "Calculated two site expectation value at site 3:  0.007253890363264957\n",
      "\n",
      "Reference two site expectation value does not work.\n"
     ]
    }
   ],
   "source": [
    "exp_site_one = 3\n",
    "\n",
    "print(\"\\nCalculated one site expectation value at site %d: \" % exp_site_one, one_site_exp_value(state, exp_site_one, Z))\n",
    "print(\"\\nReference one site expectation value at site %d: \" % exp_site_one, EV_1s(state, exp_site_one, Z))\n",
    "\n",
    "\n",
    "exp_site_two = 3\n",
    "\n",
    "print(\"\\nCalculated two site expectation value at site %d: \" % exp_site_two, two_site_exp_value(state, exp_site_two, Z))\n",
    "# print(\"\\nReference one site expectation value at site %d: \" % exp_site_two, EV_2s(state, exp_site_two, np.array([Z,Z])))\n",
    "print(\"\\nReference two site expectation value does not work.\")"
   ]
  },
  {
   "cell_type": "code",
   "execution_count": 20,
   "id": "73a88c51",
   "metadata": {},
   "outputs": [
    {
     "data": {
      "text/plain": [
       "<function matplotlib.pyplot.show(close=None, block=None)>"
      ]
     },
     "execution_count": 20,
     "metadata": {},
     "output_type": "execute_result"
    },
    {
     "data": {
      "image/png": "[encoded data removed]",
      "text/plain": [
       "<Figure size 640x480 with 4 Axes>"
      ]
     },
     "metadata": {},
     "output_type": "display_data"
    }
   ],
   "source": [
    "# mean and standard deviation of expectation value of Z\n",
    "max_range = 10\n",
    "max_iter = 100\n",
    "\n",
    "num_cases = int((max_range-2)/2)\n",
    "\n",
    "exp_one_rand = np.zeros((num_cases, 100))\n",
    "exp_one_ising = np.zeros((num_cases, 100))\n",
    "exp_two_rand = np.zeros((num_cases, 100))\n",
    "exp_two_ising = np.zeros((num_cases, 100))\n",
    "\n",
    "for n in range(num_cases):\n",
    "    dim = 2*n + 2\n",
    "    # site = int((dim-1)/2)\n",
    "    site = 0\n",
    "    for i in range(max_iter):\n",
    "        state_rand = random(dim)\n",
    "        state_ising = Is_GS(dim)\n",
    "        # print(dim, len(state.shape))\n",
    "        exp_one_rand[n,i] = one_site_exp_value(state_rand, site, Z)\n",
    "        exp_one_ising[n,i] = one_site_exp_value(state_ising, site, Z)\n",
    "        \n",
    "        exp_two_rand[n,i] = two_site_exp_value(state_rand, site, Z)\n",
    "        exp_two_ising[n,i] = two_site_exp_value(state_ising, site, Z)\n",
    "        \n",
    "\n",
    "mean_exp_one_rand = np.mean(exp_one_rand, axis=1)\n",
    "mean_exp_one_ising = np.mean(exp_one_ising, axis=1)\n",
    "\n",
    "mean_exp_two_rand = np.mean(exp_two_rand, axis=1)\n",
    "mean_exp_two_ising = np.mean(exp_two_ising, axis=1)\n",
    "\n",
    "dev_exp_one_rand = np.std(exp_one_rand, axis=1)\n",
    "dev_exp_one_ising = np.std(exp_one_ising, axis=1)\n",
    "\n",
    "dev_exp_two_rand = np.std(exp_two_rand, axis=1)\n",
    "dev_exp_two_ising = np.std(exp_two_ising, axis=1)\n",
    "\n",
    "     \n",
    "\n",
    "x = range(2, max_range, 2)\n",
    "\n",
    "plt.subplot(2,2,1)\n",
    "plt.plot(x, mean_exp_one_rand, 'o', label = \"one site\")\n",
    "plt.title(\"rand mean\")\n",
    "\n",
    "plt.subplot(2,2,2)\n",
    "plt.plot(x, dev_exp_one_rand, 'o', label = \"one site\")\n",
    "plt.title(\"rand dev\")\n",
    "\n",
    "plt.subplot(2,2,3)\n",
    "plt.plot(x, mean_exp_one_ising, 'o', label = \"one site\")\n",
    "plt.title(\"ising mean\")\n",
    "\n",
    "plt.subplot(2,2,4)\n",
    "plt.plot(x, mean_exp_one_ising, 'o', label = \"one site\")\n",
    "plt.title(\"ising dev\")\n",
    "\n",
    "\n",
    "\n",
    "plt.subplot(2,2,1)\n",
    "plt.plot(x, mean_exp_two_rand, 'o', label = \"two site\")\n",
    "plt.title(\"rand mean\")\n",
    "\n",
    "plt.subplot(2,2,2)\n",
    "plt.plot(x, dev_exp_two_rand, 'o', label = \"two site\")\n",
    "plt.title(\"rand dev\")\n",
    "\n",
    "plt.subplot(2,2,3)\n",
    "plt.plot(x, mean_exp_two_ising, 'o', label = \"two site\")\n",
    "plt.title(\"ising mean\")\n",
    "\n",
    "plt.subplot(2,2,4)\n",
    "plt.plot(x, dev_exp_two_ising, 'o', label = \"two site\")\n",
    "plt.title(\"ising dev\")\n",
    "\n",
    "plt.legend(loc=\"right\")\n",
    "plt.show\n"
   ]
  },
  {
   "cell_type": "code",
   "execution_count": 21,
   "id": "963562ea",
   "metadata": {},
   "outputs": [
    {
     "ename": "IndexError",
     "evalue": "tuple index out of range",
     "output_type": "error",
     "traceback": [
      "\u001b[1;31m---------------------------------------------------------------------------\u001b[0m",
      "\u001b[1;31mIndexError\u001b[0m                                Traceback (most recent call last)",
      "Cell \u001b[1;32mIn[21], line 1\u001b[0m\n\u001b[1;32m----> 1\u001b[0m EV_2s(Is_GS(\u001b[39m8\u001b[39;49m),\u001b[39m0\u001b[39;49m ,np\u001b[39m.\u001b[39;49marray([[[\u001b[39m-\u001b[39;49m\u001b[39m1\u001b[39;49m,\u001b[39m0\u001b[39;49m],[\u001b[39m0\u001b[39;49m,\u001b[39m1\u001b[39;49m]],[[\u001b[39m-\u001b[39;49m\u001b[39m1\u001b[39;49m,\u001b[39m0\u001b[39;49m],[\u001b[39m0\u001b[39;49m,\u001b[39m1\u001b[39;49m]]]))\n",
      "Cell \u001b[1;32mIn[2], line 36\u001b[0m, in \u001b[0;36mEV_2s\u001b[1;34m(psi, s, op)\u001b[0m\n\u001b[0;32m     34\u001b[0m \u001b[39mdef\u001b[39;00m \u001b[39mEV_2s\u001b[39m(psi,s,op):\n\u001b[0;32m     35\u001b[0m    n \u001b[39m=\u001b[39m \u001b[39mlen\u001b[39m(psi\u001b[39m.\u001b[39mshape)\n\u001b[1;32m---> 36\u001b[0m    psiop \u001b[39m=\u001b[39m np\u001b[39m.\u001b[39;49mtensordot(op,psi,axes\u001b[39m=\u001b[39;49m((\u001b[39m2\u001b[39;49m,\u001b[39m3\u001b[39;49m),(s,s\u001b[39m+\u001b[39;49m\u001b[39m1\u001b[39;49m)))\n\u001b[0;32m     37\u001b[0m    psiop \u001b[39m=\u001b[39m np\u001b[39m.\u001b[39mtranspose(np\u001b[39m.\u001b[39mreshape(psiop,(\u001b[39m4\u001b[39m,\u001b[39m2\u001b[39m\u001b[39m*\u001b[39m\u001b[39m*\u001b[39m(s),\u001b[39m2\u001b[39m\u001b[39m*\u001b[39m\u001b[39m*\u001b[39m(n\u001b[39m-\u001b[39ms\u001b[39m-\u001b[39m\u001b[39m2\u001b[39m))),(\u001b[39m1\u001b[39m,\u001b[39m0\u001b[39m,\u001b[39m2\u001b[39m))\n\u001b[0;32m     38\u001b[0m    EV \u001b[39m=\u001b[39m np\u001b[39m.\u001b[39mvdot(np\u001b[39m.\u001b[39mreshape(psi,\u001b[39m-\u001b[39m\u001b[39m1\u001b[39m),np\u001b[39m.\u001b[39mreshape(psiop,\u001b[39m-\u001b[39m\u001b[39m1\u001b[39m))\n",
      "File \u001b[1;32m<__array_function__ internals>:200\u001b[0m, in \u001b[0;36mtensordot\u001b[1;34m(*args, **kwargs)\u001b[0m\n",
      "File \u001b[1;32mc:\\Users\\komok\\AppData\\Local\\Programs\\Python\\Python311\\Lib\\site-packages\\numpy\\core\\numeric.py:1109\u001b[0m, in \u001b[0;36mtensordot\u001b[1;34m(a, b, axes)\u001b[0m\n\u001b[0;32m   1107\u001b[0m \u001b[39melse\u001b[39;00m:\n\u001b[0;32m   1108\u001b[0m     \u001b[39mfor\u001b[39;00m k \u001b[39min\u001b[39;00m \u001b[39mrange\u001b[39m(na):\n\u001b[1;32m-> 1109\u001b[0m         \u001b[39mif\u001b[39;00m as_[axes_a[k]] \u001b[39m!=\u001b[39m bs[axes_b[k]]:\n\u001b[0;32m   1110\u001b[0m             equal \u001b[39m=\u001b[39m \u001b[39mFalse\u001b[39;00m\n\u001b[0;32m   1111\u001b[0m             \u001b[39mbreak\u001b[39;00m\n",
      "\u001b[1;31mIndexError\u001b[0m: tuple index out of range"
     ]
    }
   ],
   "source": [
    "EV_2s(Is_GS(8),0 ,np.array([[[-1,0],[0,1]],[[-1,0],[0,1]]]))"
   ]
  },
  {
   "cell_type": "code",
   "execution_count": null,
   "id": "276218a9",
   "metadata": {},
   "outputs": [
    {
     "name": "stdout",
     "output_type": "stream",
     "text": [
      "[array([[1.+0.j, 0.+0.j],\n",
      "       [0.+0.j, 1.+0.j]]), array([[[-0.7933629 -0.60874898j,  0.        +0.j        ],\n",
      "        [ 0.        +0.j        ,  0.        +0.j        ]],\n",
      "\n",
      "       [[ 0.        +0.j        ,  0.        +0.j        ],\n",
      "        [ 0.        +0.j        , -0.79334051-0.60877816j]]]), array([[[1.+0.j, 0.+0.j],\n",
      "        [0.+0.j, 0.+0.j]],\n",
      "\n",
      "       [[0.+0.j, 0.+0.j],\n",
      "        [0.+0.j, 1.+0.j]]]), array([[-0.89932805+0.j,  0.        +0.j],\n",
      "       [ 0.        +0.j, -0.43727457+0.j]])]\n",
      "False\n",
      "[array([[1.+0.j, 0.+0.j],\n",
      "       [0.+0.j, 1.+0.j]]), array([[[-0.7933629 -0.60874898j,  0.        +0.j        ],\n",
      "        [ 0.        +0.j        ,  0.        +0.j        ]],\n",
      "\n",
      "       [[ 0.        +0.j        ,  0.        +0.j        ],\n",
      "        [ 0.        +0.j        , -0.79334051-0.60877816j]]]), array([[[0.89932805+0.j, 0.        +0.j],\n",
      "        [0.        +0.j, 0.        +0.j]],\n",
      "\n",
      "       [[0.        +0.j, 0.        +0.j],\n",
      "        [0.        +0.j, 0.43727457+0.j]]]), array([[-1.+0.j, -0.+0.j],\n",
      "       [-0.+0.j, -1.+0.j]])]\n",
      "True\n",
      "True\n",
      "[array([[1.+0.j, 0.+0.j],\n",
      "       [0.+0.j, 1.+0.j]]), array([[[-0.7933629 -0.60874898j,  0.        +0.j        ],\n",
      "        [ 0.        +0.j        ,  0.        +0.j        ]],\n",
      "\n",
      "       [[ 0.        +0.j        ,  0.        +0.j        ],\n",
      "        [ 0.        +0.j        , -0.79334051-0.60877816j]]]), array([[[0.89932805+0.j, 0.        +0.j],\n",
      "        [0.        +0.j, 0.        +0.j]],\n",
      "\n",
      "       [[0.        +0.j, 0.        +0.j],\n",
      "        [0.        +0.j, 0.43727457+0.j]]]), array([[-1.+0.j, -0.+0.j],\n",
      "       [-0.+0.j, -1.+0.j]])]\n"
     ]
    },
    {
     "data": {
      "text/plain": [
       "True"
      ]
     },
     "execution_count": 240,
     "metadata": {},
     "output_type": "execute_result"
    }
   ],
   "source": [
    "isingcheck = Is_GS(4)\n",
    "\n",
    "trunc_ising_check= trunc_left_canonical_mps(isingcheck, isTruncated=True)\n",
    "\n",
    "# for i in range(len(trunc_ising_check)):\n",
    "#     print(trunc_ising_check[i].shape)\n",
    "\n",
    "\n",
    "n = 2\n",
    "\n",
    "print(trunc_ising_check)\n",
    "print(is_mixed_canonical(trunc_ising_check,n))\n",
    "mix = to_mixed_canonical_mps(trunc_ising_check,n)\n",
    "print(trunc_ising_check)\n",
    "print(is_mixed_canonical(trunc_ising_check, n))\n",
    "print(is_mixed_canonical(mix,n))\n",
    "\n",
    "# print(trunc_ising_check)\n",
    "\n",
    "trunc_ising_mixed_mps = to_mixed_canonical_mps(trunc_ising_check,n)\n",
    "\n",
    "print(trunc_ising_check)\n",
    "is_mixed_canonical(trunc_ising_check,n)\n",
    "# print(trunc_ising_mixed_mps)\n",
    "\n"
   ]
  },
  {
   "cell_type": "code",
   "execution_count": null,
   "id": "b9b89de1",
   "metadata": {},
   "outputs": [
    {
     "data": {
      "text/plain": [
       "True"
      ]
     },
     "execution_count": 241,
     "metadata": {},
     "output_type": "execute_result"
    }
   ],
   "source": [
    "trunc_ising_check[-1]@trunc_ising_check[-1].T.conj()\n",
    "\n",
    "n = 2\n",
    "np.einsum('ijk,lji->kl', trunc_ising_check[n], trunc_ising_check[n].T.conj())\n",
    "is_mixed_canonical(trunc_ising_check,0)\n",
    "\n"
   ]
  },
  {
   "cell_type": "code",
   "execution_count": null,
   "id": "2625ad92",
   "metadata": {},
   "outputs": [],
   "source": [
    "def hamiltonian_mps(state):\n",
    "    h = 1\n",
    "    hz = 1\n",
    "\n",
    "    hZ = np.diag([hz, -hz])\n",
    "    minus_hZ = np.diag([-hz,hz])\n",
    "    minus_hX = np.array([[0,-h],[-h,0]])\n",
    "\n",
    "    H_0 = np.zeros((2,2,3))\n",
    "    H_0[:,:,0] = minus_hX + minus_hZ\n",
    "    H_0[:,:,1] = minus_hZ\n",
    "    H_0[:,:,2] = np.identity(2)\n",
    "\n",
    "    H_j = np.zeros((2,2,3,3))\n",
    "    H_j[:,:,0,0] = np.identity(2)\n",
    "    H_j[:,:,0,1] = np.zeros((2,2))\n",
    "    H_j[:,:,0,2] = np.zeros((2,2))\n",
    "    H_j[:,:,1,0] = hZ\n",
    "    H_j[:,:,1,1] = np.zeros((2,2))\n",
    "    H_j[:,:,1,2] = np.zeros((2,2))\n",
    "    H_j[:,:,2,0] = minus_hX + minus_hZ\n",
    "    H_j[:,:,2,1] = minus_hZ\n",
    "    H_j[:,:,2,2] = np.zeros((2,2))\n",
    "\n",
    "    print(hZ)\n",
    "    print(minus_hZ)\n",
    "    print(minus_hX)\n",
    "\n",
    "    print(H_j)\n",
    "    \n",
    "\n",
    "    \n"
   ]
  },
  {
   "cell_type": "code",
   "execution_count": null,
   "id": "b4fabcd4",
   "metadata": {},
   "outputs": [
    {
     "name": "stdout",
     "output_type": "stream",
     "text": [
      "[[ 1  0]\n",
      " [ 0 -1]]\n",
      "[[-1  0]\n",
      " [ 0  1]]\n",
      "[[ 0 -1]\n",
      " [-1  0]]\n",
      "[[[[ 1.  0.  0.]\n",
      "   [ 1.  0.  0.]\n",
      "   [-1. -1.  0.]]\n",
      "\n",
      "  [[ 0.  0.  0.]\n",
      "   [ 0.  0.  0.]\n",
      "   [-1.  0.  0.]]]\n",
      "\n",
      "\n",
      " [[[ 0.  0.  0.]\n",
      "   [ 0.  0.  0.]\n",
      "   [-1.  0.  0.]]\n",
      "\n",
      "  [[ 1.  0.  0.]\n",
      "   [-1.  0.  0.]\n",
      "   [ 1.  1.  0.]]]]\n"
     ]
    }
   ],
   "source": [
    "hamiltonian_mps(state)"
   ]
  },
  {
   "cell_type": "code",
   "execution_count": null,
   "id": "9f430ccb",
   "metadata": {},
   "outputs": [],
   "source": []
  },
  {
   "cell_type": "code",
   "execution_count": null,
   "id": "78e7ba64",
   "metadata": {},
   "outputs": [],
   "source": []
  }
 ],
 "metadata": {
  "kernelspec": {
   "display_name": "Python 3 (ipykernel)",
   "language": "python",
   "name": "python3"
  },
  "language_info": {
   "codemirror_mode": {
    "name": "ipython",
    "version": 3
   },
   "file_extension": ".py",
   "mimetype": "text/x-python",
   "name": "python",
   "nbconvert_exporter": "python",
   "pygments_lexer": "ipython3",
   "version": "3.11.2"
  }
 },
 "nbformat": 4,
 "nbformat_minor": 5
}
